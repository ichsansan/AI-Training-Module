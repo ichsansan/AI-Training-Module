{
 "cells": [
  {
   "cell_type": "markdown",
   "metadata": {},
   "source": [
    "# Pengenalan pemrograman Python"
   ]
  },
  {
   "cell_type": "markdown",
   "metadata": {},
   "source": [
    "## 1. Apa itu Python?\n",
    "\n",
    "* Python adalah bahasa pemrograman tingkat tinggi yang mudah dipelajari dan digunakan.\n",
    "* Diciptakan oleh Guido van Rossum pada tahun 1989 dan pertama kali dirilis pada tahun 1991."
   ]
  },
  {
   "cell_type": "markdown",
   "metadata": {},
   "source": [
    "## 2. Kelebihan Python\n",
    "\n",
    "* Mudah dibaca dan ditulis, sehingga cocok untuk pemula.\n",
    "* Memiliki berbagai pustaka (libraries) yang kaya, seperti NumPy, pandas, dan Matplotlib.\n",
    "* Portabilitas tinggi, dapat digunakan di berbagai platform.\n",
    "* Populer di berbagai industri, termasuk pengembangan web, data science, dan pengembangan aplikasi desktop."
   ]
  },
  {
   "cell_type": "markdown",
   "metadata": {},
   "source": [
    "## 3. Instalasi Python\n",
    "\n",
    "* Kunjungi situs resmi Python di [python.org](https://www.python.org/downloads/).\n",
    "* Unduh installer Python yang sesuai dengan sistem operasi Anda.\n",
    "* Ikuti panduan instalasi yang diberikan.\n",
    "\n",
    "### Instalasi di Windows 7, 8, 10\n",
    "\n",
    "Untuk menginstall Python di OS Windows, berikut ini adalah tata caranya:\n",
    "\n",
    "1. Masuk ke halaman resmi untuk [Download Python](https://www.python.org/downloads/windows/).\n",
    "2. Download versi Python yang sudah stabil. Disini saya menggunakan versi 3.7.6.\n",
    "3. Jalankan file *.exe yang sudah didownload.\n",
    "4. Jangan lupa check tanda checklist pada opsi **Add python.exe to PATH** seperti gambar.\n",
    "5. Checklist semua item pada **Optional Features** walaupun mungkin tidak dipakai.\n",
    "6. Di menu **Advanced Options**, disarankan hanya mencentang opsi berikut: **Install for all users**, **Associate files with Python**, **Create shortcuts for installed applications**, dan **Add Python to environment variables**.\n",
    "\n",
    "![](https://deved-images.nyc3.digitaloceanspaces.com/CONTINT-1526%2Fpy-installer-customize.png)"
   ]
  },
  {
   "cell_type": "markdown",
   "metadata": {},
   "source": [
    "### Instalasi di Linux\n",
    "\n",
    "Instalasi Python di OS Linux cukup mudah. Jika anda menggunakan Fedora / Debian, cobalah untuk mengecek terlebih dahulu, apakah python sudah terinstall di PC anda dengan command berikut:\n",
    "\n",
    "```bash\n",
    "$ python -V\n",
    "```\n",
    "\n",
    "Jika sudah terinstall maka akan muncul informasi seperti ini\n",
    "\n",
    "```Python 3.10.11```\n",
    "\n",
    "Jika belum, maka dapat menginstal dengan mengetikkan command berikut:\n",
    "\n",
    "```bash\n",
    "# Untuk versi terbaru\n",
    "$ sudo apt-get install python3\n",
    "\n",
    "# Untuk versi spesifik\n",
    "$ sudo apt-get install python3.8 \n",
    "# atau\n",
    "$ sudo apt-get install python3.9\n",
    "```"
   ]
  },
  {
   "cell_type": "markdown",
   "metadata": {},
   "source": [
    "### Membuat dan Menjalankan Skrip Python\n",
    "\n",
    "* Buka terminal atau command prompt.\n",
    "* Ketik `python` untuk masuk ke lingkungan Python interaktif atau buat file Python dengan ekstensi **.py** (misalnya, **hello.py**) dan ketik kode berikut:\n",
    "    ```python\n",
    "    print(\"Hello, World!\")\n",
    "    ```\n",
    "* Simpan file dan jalankan dengan perintah python hello.py.\n",
    "* Anda akan melihat output \"Hello, World!\"."
   ]
  },
  {
   "cell_type": "markdown",
   "metadata": {},
   "source": [
    "## 4. Dasar-dasar Bahasa Pemrograman Python\n",
    "\n",
    "### a. Variabel dan Tipe Data\n",
    "\n",
    "Variabel digunakan untuk menyimpan data. Tipe data dasar: int, float, string, boolean.\n",
    "Contoh:"
   ]
  },
  {
   "cell_type": "code",
   "execution_count": 1,
   "metadata": {},
   "outputs": [],
   "source": [
    "angka = 10\n",
    "nama = \"John\""
   ]
  },
  {
   "cell_type": "markdown",
   "metadata": {},
   "source": [
    "### b. Struktur Kontrol\n",
    "\n",
    "Penggunaan kondisi (if-else) untuk percabangan. Penggunaan perulangan (for dan while) untuk mengulang tugas.\n",
    "Contoh:"
   ]
  },
  {
   "cell_type": "code",
   "execution_count": 2,
   "metadata": {},
   "outputs": [
    {
     "name": "stdout",
     "output_type": "stream",
     "text": [
      "Lebih besar dari 5\n"
     ]
    }
   ],
   "source": [
    "if angka > 5:\n",
    "    print(\"Lebih besar dari 5\")\n",
    "else:\n",
    "    print(\"Kurang dari atau sama dengan 5\")"
   ]
  },
  {
   "cell_type": "code",
   "execution_count": 3,
   "metadata": {},
   "outputs": [
    {
     "name": "stdout",
     "output_type": "stream",
     "text": [
      "Angka masih kurang dari 12, angka saat ini: `angka` = 10 + 1\n",
      "Angka masih kurang dari 12, angka saat ini: `angka` = 11 + 1\n",
      "Angka saat ini: 12\n"
     ]
    }
   ],
   "source": [
    "while angka < 12:\n",
    "    print(\"Angka masih kurang dari 12, angka saat ini: `angka` =\", angka, \"+ 1\")\n",
    "    angka += 1\n",
    "print(\"Angka saat ini:\", angka)"
   ]
  },
  {
   "cell_type": "markdown",
   "metadata": {},
   "source": [
    "### c. List dan Dictionary\n",
    "\n",
    "List digunakan untuk menyimpan kumpulan data. Dictionary adalah struktur data yang menghubungkan kunci dengan nilai.\n",
    "Contoh:"
   ]
  },
  {
   "cell_type": "code",
   "execution_count": 4,
   "metadata": {},
   "outputs": [],
   "source": [
    "daftar_angka = [1, 2, 3, 4, 5]\n",
    "kamus = {\"nama\": \"John\", \"usia\": 30}"
   ]
  },
  {
   "cell_type": "markdown",
   "metadata": {},
   "source": [
    "## 5. Fungsi dan Modularitas\n",
    "\n",
    "### a. Fungsi\n",
    "\n",
    "Fungsi adalah blok kode yang dapat dipanggil dan digunakan kembali. Anda dapat membuat fungsi sendiri.\n",
    "Contoh:"
   ]
  },
  {
   "cell_type": "code",
   "execution_count": 5,
   "metadata": {},
   "outputs": [
    {
     "name": "stdout",
     "output_type": "stream",
     "text": [
      "Halo, Andi!\n"
     ]
    }
   ],
   "source": [
    "def sapa(nama):\n",
    "    print(f\"Halo, {nama}!\")\n",
    "\n",
    "sapa(\"Andi\")"
   ]
  },
  {
   "cell_type": "markdown",
   "metadata": {},
   "source": [
    "### b. Modularitas\n",
    "\n",
    "Memisahkan kode ke dalam modul/modul untuk meningkatkan keterbacaan dan pemeliharaan.\n",
    "Menggunakan import untuk mengakses modul eksternal."
   ]
  },
  {
   "cell_type": "markdown",
   "metadata": {},
   "source": [
    "## 6. Pustaka (Libraries) Python\n",
    "\n",
    "Library diperlukan untuk mempermudah penggunaan Python untuk kebutuhan yang lebih rumit. Dalam hal Data Science, library yang sering dan banyak dipakai adalah sebagai berikut\n",
    "\n",
    "### a. NumPy\n",
    "\n",
    "Untuk komputasi numerik, memungkinkan manipulasi array dan matriks.\n",
    "\n",
    "### b. Pandas\n",
    "\n",
    "Untuk analisis dan manipulasi data, memudahkan pengolahan data dalam bentuk tabel.\n",
    "\n",
    "### c. Matplotlib\n",
    "\n",
    "Untuk visualisasi data, menghasilkan grafik dan plot.\n",
    "\n",
    "### d. Scikit Learn\n",
    "\n",
    "Scikit Learn menyediakan berbagai algoritma pembelajaran mesin dan alat-alat untuk tugas-tugas seperti klasifikasi, regresi, klastering, pengurangan dimensi, pemrosesan data, dan evaluasi model"
   ]
  },
  {
   "cell_type": "markdown",
   "metadata": {},
   "source": [
    "## 7. Pengembangan Aplikasi dengan Python\n",
    "\n",
    "### a. Pengembangan Web\n",
    "Pengembangan web dengan Python melibatkan penggunaan bahasa pemrograman Python dalam kerangka kerja seperti `Django` atau `Flask` untuk membuat aplikasi web. Framework-framework ini menyederhanakan proses pengembangan dengan menyediakan alat-alat dan struktur yang memungkinkan pengembang membangun situs web dan aplikasi web dengan cepat. Python digunakan untuk mengelola logika aplikasi, berinteraksi dengan basis data, dan mengelola permintaan HTTP. Selain itu, pengembang juga menggunakan teknologi web seperti HTML, CSS, dan JavaScript untuk mengatur tampilan dan interaksi dengan pengguna. Pengembangan web dengan Python memungkinkan pembuatan aplikasi web yang kuat dan skalabel dengan efisiensi.\n",
    "\n",
    "### b. Data Science\n",
    "Data science dalam pengembangan aplikasi Python adalah penggunaan berbagai algoritma, teknik, dan pustaka khusus seperti NumPy, pandas, scikit-learn, dan TensorFlow untuk mengumpulkan, menganalisis, dan menginterpretasikan data. Ini memungkinkan pengembang untuk membuat aplikasi yang dapat memproses dan menghasilkan wawasan dari data, termasuk pemodelan prediktif, analisis statistik, visualisasi data, dan pemahaman mendalam tentang perilaku pengguna. Dengan Python, aplikasi dapat dikembangkan untuk mengotomatisasi tugas-tugas analitik, membuat rekomendasi, dan mengambil keputusan berdasarkan data, menjadikannya alat yang kuat dalam berbagai domain seperti bisnis, ilmu sosial, ilmu kesehatan, dan banyak lagi.\n",
    "\n",
    "### c. Aplikasi Desktop\n",
    "Aplikasi desktop dalam pengembangan aplikasi Python adalah program komputer yang dirancang untuk dijalankan di lingkungan desktop atau lokal pada komputer pengguna. Python menyediakan berbagai alat dan pustaka, seperti Tkinter dan PyQt, yang memungkinkan pengembang untuk membuat antarmuka pengguna grafis (GUI) yang intuitif dan interaktif untuk aplikasi desktop. Dengan Python, pengembang dapat membuat aplikasi seperti editor teks, perangkat lunak pengolah data, aplikasi bisnis, permainan sederhana, atau alat administratif yang dapat dijalankan secara mandiri di komputer pengguna tanpa perlu koneksi internet."
   ]
  },
  {
   "cell_type": "markdown",
   "metadata": {},
   "source": [
    "# Pengenalan Notebook Python\n",
    "\n",
    "## Cell (sel)\n",
    "Notebook berisi dari beberapa sel. Sel berisi teks penjelasan atau kode yang dapat dieksekusi dan keluarannya. Klik sel untuk memilihnya.\n",
    "\n",
    "### Code cells (sel kode)\n",
    "Di bawah ini adalah **code cell**. Selama di toolbar tertulis CONNECTED atau Kernelnya sudah terkoneksi, klik salah satu sel dan sel dapat dijalankan melalu beberapa metode:\n",
    "\n",
    "* Klik **Tombol Play** di pojok kiri atas dari masing-masing sel;\n",
    "* Tekan **Cmd/Ctrl+Enter** untuk menjalankan sel terseleksi;\n",
    "* Tekan **Shift+Enter** untuk menjalankan sel terseleksi dan ubah fokus ke sel sebelumnya (akan menambah 1 sel jika tidak ada); atau\n",
    "* Tekan **Alt+Enter** untuk menjalankan sel terseleksi dan menambah sel baru tepat dibawahnya.\n",
    "\n",
    "Ada beberapa opsi dalam menjalankan beberapa atau semua sel di menu **Runtime** di atas.\n"
   ]
  },
  {
   "cell_type": "code",
   "execution_count": 7,
   "metadata": {},
   "outputs": [
    {
     "data": {
      "text/plain": [
       "10"
      ]
     },
     "execution_count": 7,
     "metadata": {},
     "output_type": "execute_result"
    }
   ],
   "source": [
    "a = 10\n",
    "a"
   ]
  },
  {
   "cell_type": "markdown",
   "metadata": {},
   "source": [
    "## Text cells (sel text)\n",
    "Ini adalah **text cell**. Anda dapat melakukan **klik 2x** untuk mengedit sel ini. Sel text menggunakana sintaks markdown. Untuk mengetahui lebih jelasnya dapat dilihat di halaman [Markdown Guide](https://www.markdownguide.org/cheat-sheet/). \n",
    "\n",
    "Anda juga dapat menambahkan rumus matematika bahkan rumus yang kompleks menggunakan [LaTeX](http://www.latex-project.org/) yang akan dirender oleh [MathJax](https://www.mathjax.org). \n",
    "Cukup gunakan statement dengan pasangan tanda berikut **\\$**. Contohnya `$\\sqrt{3x-1}+(1+x)^2$` akan menjadi \n",
    "\n",
    "$\\sqrt{3x-1}+(1+x)^2.$"
   ]
  },
  {
   "cell_type": "markdown",
   "metadata": {},
   "source": [
    "## Menambahkan dan Memindahkan Sel\n",
    "Anda dapat menambahkan sel baru dengan menggunakan tombol **+ KODE** dan **+ TEKS** yang muncul saat Anda mengarahkan kursor di antara sel-sel. Tombol-tombol ini juga terdapat di toolbar di atas notebook, di mana Anda dapat menggunakannya untuk menambahkan sel di bawah sel yang saat ini dipilih.\n",
    "\n",
    "Anda dapat memindahkan sel dengan memilihnya dan mengklik **Sel Atas** atau **Sel Bawah** di toolbar atas. Anda juga dapat menarik dan memindahkan teks dengan menggunakan cara **drag & drop**"
   ]
  },
  {
   "cell_type": "markdown",
   "metadata": {},
   "source": [
    "## Bekerja dengan Python\n",
    "\n",
    "Berikut adalah beberapa contoh fungsi kenyamanan yang disediakan.\n",
    "\n",
    "Proses Python yang berjalan dalam waktu lama dapat diinterupsi. Jalankan sel berikut dan **pilih Runtime -> Interrupt execution** untuk menghentikan eksekusi."
   ]
  },
  {
   "cell_type": "code",
   "execution_count": 9,
   "metadata": {},
   "outputs": [
    {
     "name": "stdout",
     "output_type": "stream",
     "text": [
      "Sleeping\n"
     ]
    },
    {
     "ename": "KeyboardInterrupt",
     "evalue": "",
     "output_type": "error",
     "traceback": [
      "\u001b[1;31m---------------------------------------------------------------------------\u001b[0m",
      "\u001b[1;31mKeyboardInterrupt\u001b[0m                         Traceback (most recent call last)",
      "\u001b[1;32m<ipython-input-9-fb6d98dc021a>\u001b[0m in \u001b[0;36m<module>\u001b[1;34m\u001b[0m\n\u001b[0;32m      1\u001b[0m \u001b[1;32mimport\u001b[0m \u001b[0mtime\u001b[0m\u001b[1;33m\u001b[0m\u001b[1;33m\u001b[0m\u001b[0m\n\u001b[0;32m      2\u001b[0m \u001b[0mprint\u001b[0m\u001b[1;33m(\u001b[0m\u001b[1;34m\"Sleeping\"\u001b[0m\u001b[1;33m)\u001b[0m\u001b[1;33m\u001b[0m\u001b[1;33m\u001b[0m\u001b[0m\n\u001b[1;32m----> 3\u001b[1;33m \u001b[0mtime\u001b[0m\u001b[1;33m.\u001b[0m\u001b[0msleep\u001b[0m\u001b[1;33m(\u001b[0m\u001b[1;36m30\u001b[0m\u001b[1;33m)\u001b[0m \u001b[1;31m# sleep for a while; interrupt me!\u001b[0m\u001b[1;33m\u001b[0m\u001b[1;33m\u001b[0m\u001b[0m\n\u001b[0m\u001b[0;32m      4\u001b[0m \u001b[0mprint\u001b[0m\u001b[1;33m(\u001b[0m\u001b[1;34m\"Done Sleeping\"\u001b[0m\u001b[1;33m)\u001b[0m\u001b[1;33m\u001b[0m\u001b[1;33m\u001b[0m\u001b[0m\n",
      "\u001b[1;31mKeyboardInterrupt\u001b[0m: "
     ]
    }
   ],
   "source": [
    "import time\n",
    "print(\"Sleeping\")\n",
    "time.sleep(30) # sleep for a while; interrupt me!\n",
    "print(\"Done Sleeping\")"
   ]
  },
  {
   "cell_type": "markdown",
   "metadata": {},
   "source": [
    "## Sel 'Sihir' Notebook\n",
    "\n",
    "Notebook merupakan turunan lebih lanjut dari IPython, sedangkan IPython sendiri memiliki sistem perintah yang kami sebut 'sihir' yang menyediakan bahasa *command-line* mini yang efektif dan bersifat independen terhadap sintaks Python, serta dapat diperluas oleh pengguna dengan perintah-perintah baru. Sihir dimaksudkan untuk diketik secara interaktif, sehingga mereka menggunakan pola *command-line*, seperti menggunakan spasi untuk memisahkan argumen, tanda hubung untuk pilihan, dan konvensi lain yang khas dari bawaan *command-line*.\n",
    "\n",
    "Sihir terdiri dari dua jenis:\n",
    "\n",
    "Sihir baris: perintah yang diawali dengan satu karakter `%` dan argumennya hanya mencakup hingga akhir baris saat ini.\n",
    "Sihir sel: menggunakan dua karakter persen sebagai penanda (`%%`), dan mereka menerima sebagai argumen baik baris saat ini di mana mereka dinyatakan maupun seluruh isi sel. Perlu diperhatikan bahwa sihir sel hanya dapat digunakan sebagai baris pertama dalam sel, dan sebagai prinsip umum, mereka tidak dapat 'ditumpuk' (yaitu, Anda hanya dapat menggunakan satu sihir sel per sel). \n",
    "Sihir %lsmagic digunakan untuk menampilkan semua sihir yang tersedia, dan akan menampilkan baik sihir baris maupun sihir sel yang saat ini ditentukan:"
   ]
  },
  {
   "cell_type": "code",
   "execution_count": 11,
   "metadata": {},
   "outputs": [
    {
     "data": {
      "application/json": {
       "cell": {
        "!": "OSMagics",
        "HTML": "Other",
        "SVG": "Other",
        "bash": "Other",
        "capture": "ExecutionMagics",
        "cmd": "Other",
        "debug": "ExecutionMagics",
        "file": "Other",
        "html": "DisplayMagics",
        "javascript": "DisplayMagics",
        "js": "DisplayMagics",
        "latex": "DisplayMagics",
        "markdown": "DisplayMagics",
        "perl": "Other",
        "prun": "ExecutionMagics",
        "pypy": "Other",
        "python": "Other",
        "python2": "Other",
        "python3": "Other",
        "ruby": "Other",
        "script": "ScriptMagics",
        "sh": "Other",
        "svg": "DisplayMagics",
        "sx": "OSMagics",
        "system": "OSMagics",
        "time": "ExecutionMagics",
        "timeit": "ExecutionMagics",
        "writefile": "OSMagics"
       },
       "line": {
        "alias": "OSMagics",
        "alias_magic": "BasicMagics",
        "autoawait": "AsyncMagics",
        "autocall": "AutoMagics",
        "automagic": "AutoMagics",
        "autosave": "KernelMagics",
        "bookmark": "OSMagics",
        "cd": "OSMagics",
        "clear": "KernelMagics",
        "cls": "KernelMagics",
        "colors": "BasicMagics",
        "conda": "PackagingMagics",
        "config": "ConfigMagics",
        "connect_info": "KernelMagics",
        "copy": "Other",
        "ddir": "Other",
        "debug": "ExecutionMagics",
        "dhist": "OSMagics",
        "dirs": "OSMagics",
        "doctest_mode": "BasicMagics",
        "echo": "Other",
        "ed": "Other",
        "edit": "KernelMagics",
        "env": "OSMagics",
        "gui": "BasicMagics",
        "hist": "Other",
        "history": "HistoryMagics",
        "killbgscripts": "ScriptMagics",
        "ldir": "Other",
        "less": "KernelMagics",
        "load": "CodeMagics",
        "load_ext": "ExtensionMagics",
        "loadpy": "CodeMagics",
        "logoff": "LoggingMagics",
        "logon": "LoggingMagics",
        "logstart": "LoggingMagics",
        "logstate": "LoggingMagics",
        "logstop": "LoggingMagics",
        "ls": "Other",
        "lsmagic": "BasicMagics",
        "macro": "ExecutionMagics",
        "magic": "BasicMagics",
        "matplotlib": "PylabMagics",
        "mkdir": "Other",
        "more": "KernelMagics",
        "notebook": "BasicMagics",
        "page": "BasicMagics",
        "pastebin": "CodeMagics",
        "pdb": "ExecutionMagics",
        "pdef": "NamespaceMagics",
        "pdoc": "NamespaceMagics",
        "pfile": "NamespaceMagics",
        "pinfo": "NamespaceMagics",
        "pinfo2": "NamespaceMagics",
        "pip": "PackagingMagics",
        "popd": "OSMagics",
        "pprint": "BasicMagics",
        "precision": "BasicMagics",
        "prun": "ExecutionMagics",
        "psearch": "NamespaceMagics",
        "psource": "NamespaceMagics",
        "pushd": "OSMagics",
        "pwd": "OSMagics",
        "pycat": "OSMagics",
        "pylab": "PylabMagics",
        "qtconsole": "KernelMagics",
        "quickref": "BasicMagics",
        "recall": "HistoryMagics",
        "rehashx": "OSMagics",
        "reload_ext": "ExtensionMagics",
        "ren": "Other",
        "rep": "Other",
        "rerun": "HistoryMagics",
        "reset": "NamespaceMagics",
        "reset_selective": "NamespaceMagics",
        "rmdir": "Other",
        "run": "ExecutionMagics",
        "save": "CodeMagics",
        "sc": "OSMagics",
        "set_env": "OSMagics",
        "store": "StoreMagics",
        "sx": "OSMagics",
        "system": "OSMagics",
        "tb": "ExecutionMagics",
        "time": "ExecutionMagics",
        "timeit": "ExecutionMagics",
        "unalias": "OSMagics",
        "unload_ext": "ExtensionMagics",
        "who": "NamespaceMagics",
        "who_ls": "NamespaceMagics",
        "whos": "NamespaceMagics",
        "xdel": "NamespaceMagics",
        "xmode": "BasicMagics"
       }
      },
      "text/plain": [
       "Available line magics:\n",
       "%alias  %alias_magic  %autoawait  %autocall  %automagic  %autosave  %bookmark  %cd  %clear  %cls  %colors  %conda  %config  %connect_info  %copy  %ddir  %debug  %dhist  %dirs  %doctest_mode  %echo  %ed  %edit  %env  %gui  %hist  %history  %killbgscripts  %ldir  %less  %load  %load_ext  %loadpy  %logoff  %logon  %logstart  %logstate  %logstop  %ls  %lsmagic  %macro  %magic  %matplotlib  %mkdir  %more  %notebook  %page  %pastebin  %pdb  %pdef  %pdoc  %pfile  %pinfo  %pinfo2  %pip  %popd  %pprint  %precision  %prun  %psearch  %psource  %pushd  %pwd  %pycat  %pylab  %qtconsole  %quickref  %recall  %rehashx  %reload_ext  %ren  %rep  %rerun  %reset  %reset_selective  %rmdir  %run  %save  %sc  %set_env  %store  %sx  %system  %tb  %time  %timeit  %unalias  %unload_ext  %who  %who_ls  %whos  %xdel  %xmode\n",
       "\n",
       "Available cell magics:\n",
       "%%!  %%HTML  %%SVG  %%bash  %%capture  %%cmd  %%debug  %%file  %%html  %%javascript  %%js  %%latex  %%markdown  %%perl  %%prun  %%pypy  %%python  %%python2  %%python3  %%ruby  %%script  %%sh  %%svg  %%sx  %%system  %%time  %%timeit  %%writefile\n",
       "\n",
       "Automagic is ON, % prefix IS NOT needed for line magics."
      ]
     },
     "execution_count": 11,
     "metadata": {},
     "output_type": "execute_result"
    }
   ],
   "source": [
    "%lsmagic"
   ]
  },
  {
   "cell_type": "markdown",
   "metadata": {},
   "source": [
    "Salah satu contoh magic yang sangat menarik adalah kode HTML yang dapat langsung ditampilkan disini. Berikut contohnya:"
   ]
  },
  {
   "cell_type": "code",
   "execution_count": 12,
   "metadata": {},
   "outputs": [
    {
     "data": {
      "text/html": [
       "<marquee style='width: 30%; color: blue;'><b>Halo!</b></marquee>\n"
      ],
      "text/plain": [
       "<IPython.core.display.HTML object>"
      ]
     },
     "metadata": {},
     "output_type": "display_data"
    }
   ],
   "source": [
    "%%html\n",
    "<marquee style='width: 30%; color: blue;'><b>Halo!</b></marquee>"
   ]
  },
  {
   "cell_type": "code",
   "execution_count": 14,
   "metadata": {},
   "outputs": [
    {
     "data": {
      "text/html": [
       "<svg xmlns=\"http://www.w3.org/2000/svg\" viewBox=\"0 0 450 400\" width=\"200\" height=\"200\">\n",
       "  <rect x=\"80\" y=\"60\" width=\"250\" height=\"250\" rx=\"10\" style=\"fill:red; stroke:black; fill-opacity:0.7\" />\n",
       "  <rect x=\"180\" y=\"110\" width=\"250\" height=\"250\" rx=\"40\" style=\"fill:blue; stroke:black; fill-opacity:0.5;\" />\n",
       "</svg>\n"
      ],
      "text/plain": [
       "<IPython.core.display.HTML object>"
      ]
     },
     "metadata": {},
     "output_type": "display_data"
    }
   ],
   "source": [
    "%%html\n",
    "<svg xmlns=\"http://www.w3.org/2000/svg\" viewBox=\"0 0 450 400\" width=\"200\" height=\"200\">\n",
    "  <rect x=\"80\" y=\"60\" width=\"250\" height=\"250\" rx=\"10\" style=\"fill:red; stroke:black; fill-opacity:0.7\" />\n",
    "  <rect x=\"180\" y=\"110\" width=\"250\" height=\"250\" rx=\"40\" style=\"fill:blue; stroke:black; fill-opacity:0.5;\" />\n",
    "</svg>"
   ]
  },
  {
   "cell_type": "markdown",
   "metadata": {},
   "source": [
    "## *Output* yang kaya dan interaktif\n",
    "\n",
    "Selama ini semua *output* yang dihasilkan telah berupa teks, tetapi *output* ini juga dapat menjadi lebih menarik, seperti grafik di bawah ini. Anda bahkan dapat berinteraksi dengan grafik seperti memperbesar, mengubah range, melihat nilai ketika melakukan *hover*, bahkan memilih grafik yang ditampilkan."
   ]
  },
  {
   "cell_type": "code",
   "execution_count": 33,
   "metadata": {},
   "outputs": [
    {
     "data": {
      "application/vnd.plotly.v1+json": {
       "config": {
        "plotlyServerURL": "https://plot.ly"
       },
       "data": [
        {
         "hovertemplate": "Sumbu X=%{x}<br>Sumbu Y=%{y}<br>Sumbu Z=%{marker.color}<extra></extra>",
         "legendgroup": "",
         "marker": {
          "color": [
           0.12184121937430219,
           -0.013209507864506776,
           0.3938452708377126,
           -0.33837592878711864,
           -1.407999575197738,
           0.3178347953384376,
           1.2281837690185164,
           0.6238715750115633,
           -0.4003627105672565,
           -0.04506839669954256,
           0.51159016995554,
           0.19283078144508906,
           0.007841685605387042,
           -0.08605340171783259,
           -0.05645983945705154,
           0.08645039574567524,
           -0.002605917295107495,
           0.6478361426142786,
           0.34300836151352715,
           0.372331316886246,
           -0.3008517956445784,
           0.34890483175273607,
           -0.14097499017240897,
           0.4262367923983516,
           0.6385393209217134,
           0.7154050798588999,
           -0.132124386276815,
           -0.09421980685812457,
           -0.10363148167801349,
           0.6959502320553367,
           0.16175680260052977,
           0.5751659869538726,
           0.3000016906508063,
           -0.33564109439946554,
           0.2961442612612978,
           0.044529523558465414,
           -0.5434491035101823,
           0.2047030822610476,
           1.0595245179428439,
           -0.19998884090589755,
           0.05666190528609108,
           0.4632475338286358,
           -0.07902388380550973,
           1.1467490419818114,
           0.16413002638472118,
           0.3997370597724483,
           0.45371816964127953,
           0.5777819483123098,
           0.3138194820957429,
           0.2046366392336461,
           -0.46733379517714135,
           0.16230512406693273,
           -1.1629898873514608,
           -0.40083721326732785,
           -0.5249228143088889,
           -0.5310797943821777,
           -0.3415112613325284,
           0.17284285266505406,
           0.4697402206520634,
           0.3932974864243661,
           0.8027775855056835,
           -0.22610190744080352,
           -0.17149364710727075,
           0.6047009654956211,
           0.49630111850479824,
           0.225922873791257,
           0.40136789433933595,
           -0.6461965767851131,
           0.6607453606588979,
           0.046943817363307175,
           0.07310778328627959,
           0.05494302520244189,
           -0.9102547848341239,
           -0.38447055003999503,
           0.35433832221306066,
           0.28950878573285815,
           -0.5931105710048785,
           -0.05356284478657584,
           -1.3450142028957777,
           -0.07100343075326222,
           0.23456823688232362,
           0.23184161547692875,
           0.41217540378810985,
           -0.33238108850094994,
           0.3492459506692793,
           0.14648196246883335,
           -0.09333004773370511,
           0.7496983208222523,
           -0.15587412065149736,
           -0.3523177895483131,
           -0.4529319254781462,
           0.4722150587042502,
           0.5991060921246957,
           0.08329509085803423,
           -0.1360424668313766,
           0.2437508169275465,
           0.8469136820490984,
           0.1352304712617449,
           0.304039103577265,
           -0.39757054291536265
          ],
          "coloraxis": "coloraxis",
          "symbol": "circle"
         },
         "mode": "markers",
         "name": "",
         "scene": "scene",
         "showlegend": false,
         "type": "scatter3d",
         "x": [
          -1.090929099880126,
          -0.033300340058425554,
          -1.3267574703009877,
          -0.9553029663037443,
          -0.7473248092117349,
          0.132498087251298,
          -0.6213058439070869,
          0.42065486822273007,
          0.7712079615376835,
          -0.3276371071541993,
          0.924042876536635,
          0.14368774756018868,
          -0.19239113177107545,
          0.8636722971146221,
          1.506886822920643,
          -0.008546899562142926,
          -0.07155423244888567,
          0.1927690799632306,
          -0.4237088845184621,
          -0.03784937924312633,
          0.2066196089460265,
          0.03942256650425815,
          0.6429292422282227,
          -0.7395033778385133,
          -0.25623227420204914,
          -0.9615639169123995,
          0.6243835296671636,
          0.523238453243563,
          -0.32695123700069517,
          -0.3479529858914609,
          -0.15663684980079773,
          -0.07856325393948224,
          -0.364356263807892,
          -0.03318456633125861,
          -0.3162831937361376,
          -0.31552664495394833,
          0.294913372689722,
          0.001491706303724571,
          0.7899404594049486,
          -0.2753828548477604,
          0.6308016173052168,
          -0.7078084643964492,
          -0.054192172903383115,
          -0.34686964239138496,
          -0.6047945132392043,
          -0.08341887839549401,
          -0.14425591258450018,
          -0.1398295311672412,
          -0.44372084697786407,
          -0.33214521133315933,
          0.8626967339626033,
          0.6759839621001438,
          0.14836696916594502,
          1.252653821960481,
          0.776313172364763,
          0.3430311370110174,
          -0.6537345158973921,
          -0.634687677085103,
          -0.42478768944381934,
          -0.045618975395144305,
          0.18055801441857136,
          -0.45011798962735833,
          -0.48113887156675184,
          0.16091382938680301,
          0.0021645712954157137,
          -0.5785907076397969,
          -0.1607739018456843,
          0.17118711698504563,
          0.6162759682259384,
          0.28516816539032014,
          0.2036079640381343,
          -0.830549694334185,
          0.03925644486300281,
          -0.12247337184121479,
          -0.05078586012260912,
          0.3662536708598584,
          0.018336979661222053,
          -0.44156322645772556,
          -0.9065037370190282,
          0.1542870563536138,
          -0.6365257595509934,
          0.10739504206256263,
          0.3662235026160622,
          -0.13126709917078624,
          -0.5762028874117353,
          -0.46213703069453826,
          -0.253088404679061,
          0.4525484166896562,
          -0.2148856369690617,
          -0.04062884761846152,
          -0.0413505425847394,
          0.38697387886349444,
          -0.2770273143678981,
          -0.2645227920620155,
          0.1939036895974405,
          0.5943540778672712,
          -0.10640947492146725,
          0.17577148094072653,
          1.1871521895236326,
          -0.41309937130915814
         ],
         "y": [
          -0.22530679976061144,
          -0.021082379951479262,
          -0.5131298838719787,
          -0.3420814204652892,
          -0.4237019843979668,
          0.37023262682384905,
          0.13855297435137398,
          -0.5676832445642968,
          -0.10991172648569769,
          0.15598576818243282,
          -0.07839782840335552,
          0.699209601114513,
          -0.6769784049397309,
          -0.09106440030611722,
          -0.0028776113974652764,
          -0.0249587997948225,
          0.7638541690340658,
          0.2593885009068417,
          -1.0031509267100729,
          -0.14311383398417143,
          -0.5663208266028739,
          0.11278044410040738,
          -0.17697465639774188,
          -0.9695002406204034,
          -0.24559428217908966,
          0.021268804385394306,
          -0.5380532710172518,
          -0.15444961202214225,
          0.6447440099596226,
          0.33381523269429736,
          0.4625753454816002,
          0.2674427390058853,
          0.5769209790057291,
          -0.3667067061050497,
          0.7363287979691763,
          -0.10741622928065846,
          0.6357166300862073,
          -0.04752673528335881,
          0.6650269906214902,
          -0.11832512080282945,
          -0.14140076655892578,
          -0.5609602938449068,
          -0.6460093894141554,
          0.19347755246029427,
          -0.8636013283600384,
          -0.41132775215114187,
          -0.2571008391335733,
          0.40627353107934294,
          -1.3865344751129005,
          -0.21194205044177802,
          -0.19470067891783804,
          0.8743239360545686,
          -0.34349496482742264,
          -0.47851752218247284,
          0.09052977826956779,
          -0.8829734845892223,
          -0.39859722130289416,
          0.9040420309588408,
          0.8659711115685034,
          -0.13478142652786784,
          -0.5191893477422355,
          0.13382059430648058,
          0.03124120242690036,
          0.13365442404219943,
          0.21055426181026662,
          -0.33295209536003023,
          0.3844054089174774,
          0.489753025419458,
          -0.6763593965543623,
          -0.06794714216287359,
          0.1216812417720657,
          -0.14826517184980245,
          -0.24461960881349043,
          -0.6708176942435827,
          -0.16631285961289713,
          0.19703023152542917,
          -0.6354093770247572,
          -0.7881620562002779,
          -0.5212968189589191,
          -0.07171914500928903,
          -0.7915803398009782,
          0.059233784656145184,
          -0.20199137011558557,
          -0.10024492115673006,
          -1.4420616949854088,
          -0.46919783538444726,
          0.9489895120737946,
          -0.10534787455013586,
          -0.13157029148552868,
          0.13044755246259182,
          0.3085575305385078,
          -0.45480188181885883,
          0.3470623516804791,
          0.475298048486711,
          -0.12781835569039146,
          0.45051402394044593,
          -0.6472740575324015,
          -0.21137869087101008,
          0.5678132656823209,
          0.5505931929885411
         ],
         "z": [
          0.12184121937430219,
          -0.013209507864506776,
          0.3938452708377126,
          -0.33837592878711864,
          -1.407999575197738,
          0.3178347953384376,
          1.2281837690185164,
          0.6238715750115633,
          -0.4003627105672565,
          -0.04506839669954256,
          0.51159016995554,
          0.19283078144508906,
          0.007841685605387042,
          -0.08605340171783259,
          -0.05645983945705154,
          0.08645039574567524,
          -0.002605917295107495,
          0.6478361426142786,
          0.34300836151352715,
          0.372331316886246,
          -0.3008517956445784,
          0.34890483175273607,
          -0.14097499017240897,
          0.4262367923983516,
          0.6385393209217134,
          0.7154050798588999,
          -0.132124386276815,
          -0.09421980685812457,
          -0.10363148167801349,
          0.6959502320553367,
          0.16175680260052977,
          0.5751659869538726,
          0.3000016906508063,
          -0.33564109439946554,
          0.2961442612612978,
          0.044529523558465414,
          -0.5434491035101823,
          0.2047030822610476,
          1.0595245179428439,
          -0.19998884090589755,
          0.05666190528609108,
          0.4632475338286358,
          -0.07902388380550973,
          1.1467490419818114,
          0.16413002638472118,
          0.3997370597724483,
          0.45371816964127953,
          0.5777819483123098,
          0.3138194820957429,
          0.2046366392336461,
          -0.46733379517714135,
          0.16230512406693273,
          -1.1629898873514608,
          -0.40083721326732785,
          -0.5249228143088889,
          -0.5310797943821777,
          -0.3415112613325284,
          0.17284285266505406,
          0.4697402206520634,
          0.3932974864243661,
          0.8027775855056835,
          -0.22610190744080352,
          -0.17149364710727075,
          0.6047009654956211,
          0.49630111850479824,
          0.225922873791257,
          0.40136789433933595,
          -0.6461965767851131,
          0.6607453606588979,
          0.046943817363307175,
          0.07310778328627959,
          0.05494302520244189,
          -0.9102547848341239,
          -0.38447055003999503,
          0.35433832221306066,
          0.28950878573285815,
          -0.5931105710048785,
          -0.05356284478657584,
          -1.3450142028957777,
          -0.07100343075326222,
          0.23456823688232362,
          0.23184161547692875,
          0.41217540378810985,
          -0.33238108850094994,
          0.3492459506692793,
          0.14648196246883335,
          -0.09333004773370511,
          0.7496983208222523,
          -0.15587412065149736,
          -0.3523177895483131,
          -0.4529319254781462,
          0.4722150587042502,
          0.5991060921246957,
          0.08329509085803423,
          -0.1360424668313766,
          0.2437508169275465,
          0.8469136820490984,
          0.1352304712617449,
          0.304039103577265,
          -0.39757054291536265
         ]
        }
       ],
       "layout": {
        "coloraxis": {
         "colorbar": {
          "title": {
           "text": "Sumbu Z"
          }
         },
         "colorscale": [
          [
           0,
           "#0d0887"
          ],
          [
           0.1111111111111111,
           "#46039f"
          ],
          [
           0.2222222222222222,
           "#7201a8"
          ],
          [
           0.3333333333333333,
           "#9c179e"
          ],
          [
           0.4444444444444444,
           "#bd3786"
          ],
          [
           0.5555555555555556,
           "#d8576b"
          ],
          [
           0.6666666666666666,
           "#ed7953"
          ],
          [
           0.7777777777777778,
           "#fb9f3a"
          ],
          [
           0.8888888888888888,
           "#fdca26"
          ],
          [
           1,
           "#f0f921"
          ]
         ]
        },
        "height": 600,
        "legend": {
         "tracegroupgap": 0
        },
        "margin": {
         "t": 60
        },
        "scene": {
         "domain": {
          "x": [
           0,
           1
          ],
          "y": [
           0,
           1
          ]
         },
         "xaxis": {
          "title": {
           "text": "Sumbu X"
          }
         },
         "yaxis": {
          "title": {
           "text": "Sumbu Y"
          }
         },
         "zaxis": {
          "title": {
           "text": "Sumbu Z"
          }
         }
        },
        "template": {
         "data": {
          "bar": [
           {
            "error_x": {
             "color": "#2a3f5f"
            },
            "error_y": {
             "color": "#2a3f5f"
            },
            "marker": {
             "line": {
              "color": "#E5ECF6",
              "width": 0.5
             }
            },
            "type": "bar"
           }
          ],
          "barpolar": [
           {
            "marker": {
             "line": {
              "color": "#E5ECF6",
              "width": 0.5
             }
            },
            "type": "barpolar"
           }
          ],
          "carpet": [
           {
            "aaxis": {
             "endlinecolor": "#2a3f5f",
             "gridcolor": "white",
             "linecolor": "white",
             "minorgridcolor": "white",
             "startlinecolor": "#2a3f5f"
            },
            "baxis": {
             "endlinecolor": "#2a3f5f",
             "gridcolor": "white",
             "linecolor": "white",
             "minorgridcolor": "white",
             "startlinecolor": "#2a3f5f"
            },
            "type": "carpet"
           }
          ],
          "choropleth": [
           {
            "colorbar": {
             "outlinewidth": 0,
             "ticks": ""
            },
            "type": "choropleth"
           }
          ],
          "contour": [
           {
            "colorbar": {
             "outlinewidth": 0,
             "ticks": ""
            },
            "colorscale": [
             [
              0,
              "#0d0887"
             ],
             [
              0.1111111111111111,
              "#46039f"
             ],
             [
              0.2222222222222222,
              "#7201a8"
             ],
             [
              0.3333333333333333,
              "#9c179e"
             ],
             [
              0.4444444444444444,
              "#bd3786"
             ],
             [
              0.5555555555555556,
              "#d8576b"
             ],
             [
              0.6666666666666666,
              "#ed7953"
             ],
             [
              0.7777777777777778,
              "#fb9f3a"
             ],
             [
              0.8888888888888888,
              "#fdca26"
             ],
             [
              1,
              "#f0f921"
             ]
            ],
            "type": "contour"
           }
          ],
          "contourcarpet": [
           {
            "colorbar": {
             "outlinewidth": 0,
             "ticks": ""
            },
            "type": "contourcarpet"
           }
          ],
          "heatmap": [
           {
            "colorbar": {
             "outlinewidth": 0,
             "ticks": ""
            },
            "colorscale": [
             [
              0,
              "#0d0887"
             ],
             [
              0.1111111111111111,
              "#46039f"
             ],
             [
              0.2222222222222222,
              "#7201a8"
             ],
             [
              0.3333333333333333,
              "#9c179e"
             ],
             [
              0.4444444444444444,
              "#bd3786"
             ],
             [
              0.5555555555555556,
              "#d8576b"
             ],
             [
              0.6666666666666666,
              "#ed7953"
             ],
             [
              0.7777777777777778,
              "#fb9f3a"
             ],
             [
              0.8888888888888888,
              "#fdca26"
             ],
             [
              1,
              "#f0f921"
             ]
            ],
            "type": "heatmap"
           }
          ],
          "heatmapgl": [
           {
            "colorbar": {
             "outlinewidth": 0,
             "ticks": ""
            },
            "colorscale": [
             [
              0,
              "#0d0887"
             ],
             [
              0.1111111111111111,
              "#46039f"
             ],
             [
              0.2222222222222222,
              "#7201a8"
             ],
             [
              0.3333333333333333,
              "#9c179e"
             ],
             [
              0.4444444444444444,
              "#bd3786"
             ],
             [
              0.5555555555555556,
              "#d8576b"
             ],
             [
              0.6666666666666666,
              "#ed7953"
             ],
             [
              0.7777777777777778,
              "#fb9f3a"
             ],
             [
              0.8888888888888888,
              "#fdca26"
             ],
             [
              1,
              "#f0f921"
             ]
            ],
            "type": "heatmapgl"
           }
          ],
          "histogram": [
           {
            "marker": {
             "colorbar": {
              "outlinewidth": 0,
              "ticks": ""
             }
            },
            "type": "histogram"
           }
          ],
          "histogram2d": [
           {
            "colorbar": {
             "outlinewidth": 0,
             "ticks": ""
            },
            "colorscale": [
             [
              0,
              "#0d0887"
             ],
             [
              0.1111111111111111,
              "#46039f"
             ],
             [
              0.2222222222222222,
              "#7201a8"
             ],
             [
              0.3333333333333333,
              "#9c179e"
             ],
             [
              0.4444444444444444,
              "#bd3786"
             ],
             [
              0.5555555555555556,
              "#d8576b"
             ],
             [
              0.6666666666666666,
              "#ed7953"
             ],
             [
              0.7777777777777778,
              "#fb9f3a"
             ],
             [
              0.8888888888888888,
              "#fdca26"
             ],
             [
              1,
              "#f0f921"
             ]
            ],
            "type": "histogram2d"
           }
          ],
          "histogram2dcontour": [
           {
            "colorbar": {
             "outlinewidth": 0,
             "ticks": ""
            },
            "colorscale": [
             [
              0,
              "#0d0887"
             ],
             [
              0.1111111111111111,
              "#46039f"
             ],
             [
              0.2222222222222222,
              "#7201a8"
             ],
             [
              0.3333333333333333,
              "#9c179e"
             ],
             [
              0.4444444444444444,
              "#bd3786"
             ],
             [
              0.5555555555555556,
              "#d8576b"
             ],
             [
              0.6666666666666666,
              "#ed7953"
             ],
             [
              0.7777777777777778,
              "#fb9f3a"
             ],
             [
              0.8888888888888888,
              "#fdca26"
             ],
             [
              1,
              "#f0f921"
             ]
            ],
            "type": "histogram2dcontour"
           }
          ],
          "mesh3d": [
           {
            "colorbar": {
             "outlinewidth": 0,
             "ticks": ""
            },
            "type": "mesh3d"
           }
          ],
          "parcoords": [
           {
            "line": {
             "colorbar": {
              "outlinewidth": 0,
              "ticks": ""
             }
            },
            "type": "parcoords"
           }
          ],
          "pie": [
           {
            "automargin": true,
            "type": "pie"
           }
          ],
          "scatter": [
           {
            "marker": {
             "colorbar": {
              "outlinewidth": 0,
              "ticks": ""
             }
            },
            "type": "scatter"
           }
          ],
          "scatter3d": [
           {
            "line": {
             "colorbar": {
              "outlinewidth": 0,
              "ticks": ""
             }
            },
            "marker": {
             "colorbar": {
              "outlinewidth": 0,
              "ticks": ""
             }
            },
            "type": "scatter3d"
           }
          ],
          "scattercarpet": [
           {
            "marker": {
             "colorbar": {
              "outlinewidth": 0,
              "ticks": ""
             }
            },
            "type": "scattercarpet"
           }
          ],
          "scattergeo": [
           {
            "marker": {
             "colorbar": {
              "outlinewidth": 0,
              "ticks": ""
             }
            },
            "type": "scattergeo"
           }
          ],
          "scattergl": [
           {
            "marker": {
             "colorbar": {
              "outlinewidth": 0,
              "ticks": ""
             }
            },
            "type": "scattergl"
           }
          ],
          "scattermapbox": [
           {
            "marker": {
             "colorbar": {
              "outlinewidth": 0,
              "ticks": ""
             }
            },
            "type": "scattermapbox"
           }
          ],
          "scatterpolar": [
           {
            "marker": {
             "colorbar": {
              "outlinewidth": 0,
              "ticks": ""
             }
            },
            "type": "scatterpolar"
           }
          ],
          "scatterpolargl": [
           {
            "marker": {
             "colorbar": {
              "outlinewidth": 0,
              "ticks": ""
             }
            },
            "type": "scatterpolargl"
           }
          ],
          "scatterternary": [
           {
            "marker": {
             "colorbar": {
              "outlinewidth": 0,
              "ticks": ""
             }
            },
            "type": "scatterternary"
           }
          ],
          "surface": [
           {
            "colorbar": {
             "outlinewidth": 0,
             "ticks": ""
            },
            "colorscale": [
             [
              0,
              "#0d0887"
             ],
             [
              0.1111111111111111,
              "#46039f"
             ],
             [
              0.2222222222222222,
              "#7201a8"
             ],
             [
              0.3333333333333333,
              "#9c179e"
             ],
             [
              0.4444444444444444,
              "#bd3786"
             ],
             [
              0.5555555555555556,
              "#d8576b"
             ],
             [
              0.6666666666666666,
              "#ed7953"
             ],
             [
              0.7777777777777778,
              "#fb9f3a"
             ],
             [
              0.8888888888888888,
              "#fdca26"
             ],
             [
              1,
              "#f0f921"
             ]
            ],
            "type": "surface"
           }
          ],
          "table": [
           {
            "cells": {
             "fill": {
              "color": "#EBF0F8"
             },
             "line": {
              "color": "white"
             }
            },
            "header": {
             "fill": {
              "color": "#C8D4E3"
             },
             "line": {
              "color": "white"
             }
            },
            "type": "table"
           }
          ]
         },
         "layout": {
          "annotationdefaults": {
           "arrowcolor": "#2a3f5f",
           "arrowhead": 0,
           "arrowwidth": 1
          },
          "coloraxis": {
           "colorbar": {
            "outlinewidth": 0,
            "ticks": ""
           }
          },
          "colorscale": {
           "diverging": [
            [
             0,
             "#8e0152"
            ],
            [
             0.1,
             "#c51b7d"
            ],
            [
             0.2,
             "#de77ae"
            ],
            [
             0.3,
             "#f1b6da"
            ],
            [
             0.4,
             "#fde0ef"
            ],
            [
             0.5,
             "#f7f7f7"
            ],
            [
             0.6,
             "#e6f5d0"
            ],
            [
             0.7,
             "#b8e186"
            ],
            [
             0.8,
             "#7fbc41"
            ],
            [
             0.9,
             "#4d9221"
            ],
            [
             1,
             "#276419"
            ]
           ],
           "sequential": [
            [
             0,
             "#0d0887"
            ],
            [
             0.1111111111111111,
             "#46039f"
            ],
            [
             0.2222222222222222,
             "#7201a8"
            ],
            [
             0.3333333333333333,
             "#9c179e"
            ],
            [
             0.4444444444444444,
             "#bd3786"
            ],
            [
             0.5555555555555556,
             "#d8576b"
            ],
            [
             0.6666666666666666,
             "#ed7953"
            ],
            [
             0.7777777777777778,
             "#fb9f3a"
            ],
            [
             0.8888888888888888,
             "#fdca26"
            ],
            [
             1,
             "#f0f921"
            ]
           ],
           "sequentialminus": [
            [
             0,
             "#0d0887"
            ],
            [
             0.1111111111111111,
             "#46039f"
            ],
            [
             0.2222222222222222,
             "#7201a8"
            ],
            [
             0.3333333333333333,
             "#9c179e"
            ],
            [
             0.4444444444444444,
             "#bd3786"
            ],
            [
             0.5555555555555556,
             "#d8576b"
            ],
            [
             0.6666666666666666,
             "#ed7953"
            ],
            [
             0.7777777777777778,
             "#fb9f3a"
            ],
            [
             0.8888888888888888,
             "#fdca26"
            ],
            [
             1,
             "#f0f921"
            ]
           ]
          },
          "colorway": [
           "#636efa",
           "#EF553B",
           "#00cc96",
           "#ab63fa",
           "#FFA15A",
           "#19d3f3",
           "#FF6692",
           "#B6E880",
           "#FF97FF",
           "#FECB52"
          ],
          "font": {
           "color": "#2a3f5f"
          },
          "geo": {
           "bgcolor": "white",
           "lakecolor": "white",
           "landcolor": "#E5ECF6",
           "showlakes": true,
           "showland": true,
           "subunitcolor": "white"
          },
          "hoverlabel": {
           "align": "left"
          },
          "hovermode": "closest",
          "mapbox": {
           "style": "light"
          },
          "paper_bgcolor": "white",
          "plot_bgcolor": "#E5ECF6",
          "polar": {
           "angularaxis": {
            "gridcolor": "white",
            "linecolor": "white",
            "ticks": ""
           },
           "bgcolor": "#E5ECF6",
           "radialaxis": {
            "gridcolor": "white",
            "linecolor": "white",
            "ticks": ""
           }
          },
          "scene": {
           "xaxis": {
            "backgroundcolor": "#E5ECF6",
            "gridcolor": "white",
            "gridwidth": 2,
            "linecolor": "white",
            "showbackground": true,
            "ticks": "",
            "zerolinecolor": "white"
           },
           "yaxis": {
            "backgroundcolor": "#E5ECF6",
            "gridcolor": "white",
            "gridwidth": 2,
            "linecolor": "white",
            "showbackground": true,
            "ticks": "",
            "zerolinecolor": "white"
           },
           "zaxis": {
            "backgroundcolor": "#E5ECF6",
            "gridcolor": "white",
            "gridwidth": 2,
            "linecolor": "white",
            "showbackground": true,
            "ticks": "",
            "zerolinecolor": "white"
           }
          },
          "shapedefaults": {
           "line": {
            "color": "#2a3f5f"
           }
          },
          "ternary": {
           "aaxis": {
            "gridcolor": "white",
            "linecolor": "white",
            "ticks": ""
           },
           "baxis": {
            "gridcolor": "white",
            "linecolor": "white",
            "ticks": ""
           },
           "bgcolor": "#E5ECF6",
           "caxis": {
            "gridcolor": "white",
            "linecolor": "white",
            "ticks": ""
           }
          },
          "title": {
           "x": 0.05
          },
          "xaxis": {
           "automargin": true,
           "gridcolor": "white",
           "linecolor": "white",
           "ticks": "",
           "title": {
            "standoff": 15
           },
           "zerolinecolor": "white",
           "zerolinewidth": 2
          },
          "yaxis": {
           "automargin": true,
           "gridcolor": "white",
           "linecolor": "white",
           "ticks": "",
           "title": {
            "standoff": 15
           },
           "zerolinecolor": "white",
           "zerolinewidth": 2
          }
         }
        }
       }
      }
     },
     "metadata": {},
     "output_type": "display_data"
    }
   ],
   "source": [
    "import numpy as np\n",
    "import pandas as pd\n",
    "import plotly.express as px\n",
    "\n",
    "Data = np.random.normal(loc=0, scale=0.5, size=[100, 3])\n",
    "Data = pd.DataFrame(Data, columns=['Sumbu X','Sumbu Y','Sumbu Z'])\n",
    "\n",
    "fig = px.scatter_3d(Data, x='Sumbu X', y='Sumbu Y', z='Sumbu Z', color='Sumbu Z')\n",
    "fig.update_layout(height=600)\n",
    "fig.show()"
   ]
  }
 ],
 "metadata": {
  "kernelspec": {
   "display_name": "Python 3",
   "language": "python",
   "name": "python3"
  },
  "language_info": {
   "codemirror_mode": {
    "name": "ipython",
    "version": 3
   },
   "file_extension": ".py",
   "mimetype": "text/x-python",
   "name": "python",
   "nbconvert_exporter": "python",
   "pygments_lexer": "ipython3",
   "version": "3.7.6"
  },
  "orig_nbformat": 4
 },
 "nbformat": 4,
 "nbformat_minor": 2
}
